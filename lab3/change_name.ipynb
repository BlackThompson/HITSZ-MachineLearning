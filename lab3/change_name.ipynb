{
 "cells": [
  {
   "cell_type": "code",
   "execution_count": 3,
   "metadata": {},
   "outputs": [],
   "source": [
    "import os\n",
    "\n",
    "# dir = r\"./dataset\"\n",
    "# for part in os.listdir(dir):\n",
    "#     sub_dir = os.path.join(dir, part)\n",
    "#     for file in os.listdir(sub_dir):\n",
    "#         sub_file_2 = os.path.join(sub_dir, file)\n",
    "#         for file_name in os.listdir(sub_file_2):\n",
    "#             file_name, file_extension = os.path.splitext(file_name)  # 分离文件名和扩展名\n",
    "#             new_file_name = file_name + \"_\" + file + file_extension  # 添加标签到文件名末尾\n",
    "#             file_path = os.path.join(sub_file_2, file_name + file_extension)\n",
    "#             new_file_path = os.path.join(sub_file_2, new_file_name)\n",
    "#             os.rename(file_path, new_file_path)\n"
   ]
  },
  {
   "cell_type": "code",
   "execution_count": 5,
   "metadata": {},
   "outputs": [],
   "source": [
    "import os\n",
    "import shutil\n",
    "\n",
    "# 定义最大的文件夹路径\n",
    "# main_folder = r\"./dataset/test\"\n",
    "# main_folder = r\"./dataset/train\"\n",
    "# main_folder = r\"./dataset/valid\"\n",
    "\n",
    "# 列出最大文件夹下的所有小文件夹\n",
    "subfolders = [os.path.join(main_folder, folder) for folder in os.listdir(main_folder) if os.path.isdir(os.path.join(main_folder, folder))]\n",
    "\n",
    "# 移动每个小文件夹中的文件到最大的文件夹\n",
    "for folder in subfolders:\n",
    "    for item in os.listdir(folder):\n",
    "        item_path = os.path.join(folder, item)\n",
    "        if os.path.isfile(item_path):\n",
    "            shutil.move(item_path, main_folder)\n",
    "\n",
    "# 删除小文件夹\n",
    "for folder in subfolders:\n",
    "    shutil.rmtree(folder)\n"
   ]
  },
  {
   "cell_type": "code",
   "execution_count": null,
   "metadata": {},
   "outputs": [],
   "source": []
  }
 ],
 "metadata": {
  "kernelspec": {
   "display_name": "face-orientation",
   "language": "python",
   "name": "python3"
  },
  "language_info": {
   "codemirror_mode": {
    "name": "ipython",
    "version": 3
   },
   "file_extension": ".py",
   "mimetype": "text/x-python",
   "name": "python",
   "nbconvert_exporter": "python",
   "pygments_lexer": "ipython3",
   "version": "3.8.18"
  }
 },
 "nbformat": 4,
 "nbformat_minor": 2
}
