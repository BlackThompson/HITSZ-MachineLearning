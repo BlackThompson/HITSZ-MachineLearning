{
 "cells": [
  {
   "cell_type": "markdown",
   "source": [
    "# 1. 读取数据"
   ],
   "metadata": {
    "collapsed": false,
    "pycharm": {
     "name": "#%% md\n"
    }
   }
  },
  {
   "cell_type": "code",
   "execution_count": 1,
   "outputs": [
    {
     "data": {
      "text/plain": "     wind humidity    rays  temp weather\n0    east      dry    high   hot   sunny\n1   south      wet    high   hot   sunny\n2   north      mid    high   hot   sunny\n3    west      mid    high  mild   sunny\n4   south      wet  normal  mild  cloudy\n5    west      dry    high  mild  cloudy\n6    west      wet    high   hot  cloudy\n7    east      mid  normal  mild  cloudy\n8   south      mid  normal  mild   rainy\n9   north      wet  normal  mild   rainy\n10   east      mid  normal  mild   rainy\n11   west      wet  normal  mild   rainy",
      "text/html": "<div>\n<style scoped>\n    .dataframe tbody tr th:only-of-type {\n        vertical-align: middle;\n    }\n\n    .dataframe tbody tr th {\n        vertical-align: top;\n    }\n\n    .dataframe thead th {\n        text-align: right;\n    }\n</style>\n<table border=\"1\" class=\"dataframe\">\n  <thead>\n    <tr style=\"text-align: right;\">\n      <th></th>\n      <th>wind</th>\n      <th>humidity</th>\n      <th>rays</th>\n      <th>temp</th>\n      <th>weather</th>\n    </tr>\n  </thead>\n  <tbody>\n    <tr>\n      <th>0</th>\n      <td>east</td>\n      <td>dry</td>\n      <td>high</td>\n      <td>hot</td>\n      <td>sunny</td>\n    </tr>\n    <tr>\n      <th>1</th>\n      <td>south</td>\n      <td>wet</td>\n      <td>high</td>\n      <td>hot</td>\n      <td>sunny</td>\n    </tr>\n    <tr>\n      <th>2</th>\n      <td>north</td>\n      <td>mid</td>\n      <td>high</td>\n      <td>hot</td>\n      <td>sunny</td>\n    </tr>\n    <tr>\n      <th>3</th>\n      <td>west</td>\n      <td>mid</td>\n      <td>high</td>\n      <td>mild</td>\n      <td>sunny</td>\n    </tr>\n    <tr>\n      <th>4</th>\n      <td>south</td>\n      <td>wet</td>\n      <td>normal</td>\n      <td>mild</td>\n      <td>cloudy</td>\n    </tr>\n    <tr>\n      <th>5</th>\n      <td>west</td>\n      <td>dry</td>\n      <td>high</td>\n      <td>mild</td>\n      <td>cloudy</td>\n    </tr>\n    <tr>\n      <th>6</th>\n      <td>west</td>\n      <td>wet</td>\n      <td>high</td>\n      <td>hot</td>\n      <td>cloudy</td>\n    </tr>\n    <tr>\n      <th>7</th>\n      <td>east</td>\n      <td>mid</td>\n      <td>normal</td>\n      <td>mild</td>\n      <td>cloudy</td>\n    </tr>\n    <tr>\n      <th>8</th>\n      <td>south</td>\n      <td>mid</td>\n      <td>normal</td>\n      <td>mild</td>\n      <td>rainy</td>\n    </tr>\n    <tr>\n      <th>9</th>\n      <td>north</td>\n      <td>wet</td>\n      <td>normal</td>\n      <td>mild</td>\n      <td>rainy</td>\n    </tr>\n    <tr>\n      <th>10</th>\n      <td>east</td>\n      <td>mid</td>\n      <td>normal</td>\n      <td>mild</td>\n      <td>rainy</td>\n    </tr>\n    <tr>\n      <th>11</th>\n      <td>west</td>\n      <td>wet</td>\n      <td>normal</td>\n      <td>mild</td>\n      <td>rainy</td>\n    </tr>\n  </tbody>\n</table>\n</div>"
     },
     "execution_count": 1,
     "metadata": {},
     "output_type": "execute_result"
    }
   ],
   "source": [
    "import pandas as pd\n",
    "\n",
    "train_path = r'../input/train.csv'\n",
    "predict_path = r'../input/predict.csv'\n",
    "train_data = pd.read_csv(train_path)\n",
    "train_data"
   ],
   "metadata": {
    "collapsed": false,
    "pycharm": {
     "name": "#%%\n"
    }
   }
  },
  {
   "cell_type": "code",
   "execution_count": 2,
   "outputs": [
    {
     "data": {
      "text/plain": "    wind humidity    rays  temp\n0   east      wet  normal  mild\n1  south      dry    high   hot\n2  north      dry    high  mild\n3  south      dry  normal  mild",
      "text/html": "<div>\n<style scoped>\n    .dataframe tbody tr th:only-of-type {\n        vertical-align: middle;\n    }\n\n    .dataframe tbody tr th {\n        vertical-align: top;\n    }\n\n    .dataframe thead th {\n        text-align: right;\n    }\n</style>\n<table border=\"1\" class=\"dataframe\">\n  <thead>\n    <tr style=\"text-align: right;\">\n      <th></th>\n      <th>wind</th>\n      <th>humidity</th>\n      <th>rays</th>\n      <th>temp</th>\n    </tr>\n  </thead>\n  <tbody>\n    <tr>\n      <th>0</th>\n      <td>east</td>\n      <td>wet</td>\n      <td>normal</td>\n      <td>mild</td>\n    </tr>\n    <tr>\n      <th>1</th>\n      <td>south</td>\n      <td>dry</td>\n      <td>high</td>\n      <td>hot</td>\n    </tr>\n    <tr>\n      <th>2</th>\n      <td>north</td>\n      <td>dry</td>\n      <td>high</td>\n      <td>mild</td>\n    </tr>\n    <tr>\n      <th>3</th>\n      <td>south</td>\n      <td>dry</td>\n      <td>normal</td>\n      <td>mild</td>\n    </tr>\n  </tbody>\n</table>\n</div>"
     },
     "execution_count": 2,
     "metadata": {},
     "output_type": "execute_result"
    }
   ],
   "source": [
    "predict_data = pd.read_csv(predict_path)\n",
    "predict_data"
   ],
   "metadata": {
    "collapsed": false,
    "pycharm": {
     "name": "#%%\n"
    }
   }
  },
  {
   "cell_type": "markdown",
   "source": [
    "# 2.构建决策树"
   ],
   "metadata": {
    "collapsed": false,
    "pycharm": {
     "name": "#%% md\n"
    }
   }
  },
  {
   "cell_type": "code",
   "execution_count": 3,
   "outputs": [],
   "source": [
    "from ID3 import *\n",
    "\n",
    "attributes = ['wind', 'humidity', 'rays', 'temp']\n",
    "decision_tree = build_decision_tree(train_data, attributes)"
   ],
   "metadata": {
    "collapsed": false,
    "pycharm": {
     "name": "#%%\n"
    }
   }
  },
  {
   "cell_type": "code",
   "execution_count": 4,
   "outputs": [
    {
     "name": "stdout",
     "output_type": "stream",
     "text": [
      "{'rays': {'high': {'wind': {'east': 'sunny', 'south': 'sunny', 'north': 'sunny', 'west': {'humidity': {'mid': 'sunny', 'dry': 'cloudy', 'wet': 'cloudy'}}}}, 'normal': {'wind': {'south': {'humidity': {'wet': 'cloudy', 'mid': 'rainy'}}, 'east': {'humidity': {'mid': {'temp': {'mild': 'cloudy'}}}}, 'north': 'rainy', 'west': 'rainy'}}}}\n"
     ]
    }
   ],
   "source": [
    "print(decision_tree)"
   ],
   "metadata": {
    "collapsed": false,
    "pycharm": {
     "name": "#%%\n"
    }
   }
  },
  {
   "cell_type": "markdown",
   "source": [
    "# 3.预测"
   ],
   "metadata": {
    "collapsed": false,
    "pycharm": {
     "name": "#%% md\n"
    }
   }
  },
  {
   "cell_type": "code",
   "execution_count": 6,
   "outputs": [
    {
     "data": {
      "text/plain": "['Unknown', 'sunny', 'sunny', 'Unknown']"
     },
     "execution_count": 6,
     "metadata": {},
     "output_type": "execute_result"
    }
   ],
   "source": [
    "result = []\n",
    "for index, row in predict_data.iterrows():\n",
    "    prediction = predict(decision_tree, row)\n",
    "    result.append(prediction)\n",
    "result"
   ],
   "metadata": {
    "collapsed": false,
    "pycharm": {
     "name": "#%%\n"
    }
   }
  }
 ],
 "metadata": {
  "kernelspec": {
   "display_name": "Python 3",
   "language": "python",
   "name": "python3"
  },
  "language_info": {
   "codemirror_mode": {
    "name": "ipython",
    "version": 2
   },
   "file_extension": ".py",
   "mimetype": "text/x-python",
   "name": "python",
   "nbconvert_exporter": "python",
   "pygments_lexer": "ipython2",
   "version": "2.7.6"
  }
 },
 "nbformat": 4,
 "nbformat_minor": 0
}